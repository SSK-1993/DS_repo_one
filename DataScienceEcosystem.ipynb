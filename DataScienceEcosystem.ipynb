{
 "cells": [
  {
   "cell_type": "markdown",
   "id": "5c694d3c-e2fe-499d-acdd-14108f529433",
   "metadata": {},
   "source": [
    "# Data Science Tools and Ecosystem"
   ]
  },
  {
   "cell_type": "markdown",
   "id": "b8038bb9-23d1-45df-8453-56ff0bc39532",
   "metadata": {},
   "source": [
    "## In this notebook, Data Science Tools and Ecosystem are summarized."
   ]
  },
  {
   "cell_type": "markdown",
   "id": "94f644a6-877b-4186-b64b-625a2c4cdfac",
   "metadata": {},
   "source": [
    "**Objectives:**\n",
    "- List popular languages for Data Science\n",
    "- List commonly used libraries used by Data Scientists\n",
    "- List Data science tools\n",
    "- Examples of evaluating arithmetic expressions in Python\n",
    "    - Simple arithmetic expression\n",
    "    - Convert minutes to hours"
   ]
  },
  {
   "cell_type": "markdown",
   "id": "ea4d7823-897e-44a4-b096-cd29e40bb534",
   "metadata": {},
   "source": [
    "### Some of the popular languages that Data Scientists use are:\n",
    "1. Python\n",
    "2. R\n",
    "3. SQL\n",
    "4. Scala\n",
    "5. Java\n",
    "6. C++\n",
    "7. Julia\n",
    "8. Ruby"
   ]
  },
  {
   "cell_type": "markdown",
   "id": "3a1f4aaa-2c05-4866-927f-109ff7275c04",
   "metadata": {},
   "source": [
    "### Some of the commonly used libraries used by Data Scientists include:\n",
    "1. NumPy\n",
    "2. Pandas\n",
    "3. Matplotlib\n",
    "4. Seaborn\n",
    "5. Scipy\n",
    "6. Scikit-learn\n",
    "7. TensorFlow\n",
    "8. PyTorch\n",
    "9. Keras"
   ]
  },
  {
   "cell_type": "markdown",
   "id": "6949a42e-fe24-4ab5-970a-6d12877497a3",
   "metadata": {},
   "source": [
    "|Data Science Tools|\n",
    "|------------------|\n",
    "|Jupyter Notebook|\n",
    "|RStudio|\n",
    "|Visul Studio Code (with Python extension)|"
   ]
  },
  {
   "cell_type": "markdown",
   "id": "99fc720f-8e34-4c0b-a232-ac34060365e5",
   "metadata": {},
   "source": [
    "### Below are a few examples of evaluating arithmetic expressions in Python"
   ]
  },
  {
   "cell_type": "code",
   "execution_count": 1,
   "id": "78971356-c8b0-4da1-9f50-0b7535156621",
   "metadata": {},
   "outputs": [
    {
     "data": {
      "text/plain": [
       "17"
      ]
     },
     "execution_count": 1,
     "metadata": {},
     "output_type": "execute_result"
    }
   ],
   "source": [
    "# This a simple arithmetic expression to mutiply then add integers\n",
    "(3*4)+5"
   ]
  },
  {
   "cell_type": "code",
   "execution_count": 2,
   "id": "063fe2a0-00ee-4080-83db-304a1fa40bf6",
   "metadata": {},
   "outputs": [
    {
     "data": {
      "text/plain": [
       "3.3333333333333335"
      ]
     },
     "execution_count": 2,
     "metadata": {},
     "output_type": "execute_result"
    }
   ],
   "source": [
    "# This will convert 200 minutes to hours by diving by 60\n",
    "200 / 60"
   ]
  },
  {
   "cell_type": "markdown",
   "id": "89e081e2-6a44-403c-8126-d073de703d15",
   "metadata": {},
   "source": [
    "## Author\n",
    "Sreenath Santhosh"
   ]
  },
  {
   "cell_type": "code",
   "execution_count": null,
   "id": "e907c70d-ba0b-4b11-b15d-a743f3f2902b",
   "metadata": {},
   "outputs": [],
   "source": []
  }
 ],
 "metadata": {
  "kernelspec": {
   "display_name": "Python 3 (ipykernel)",
   "language": "python",
   "name": "python3"
  },
  "language_info": {
   "codemirror_mode": {
    "name": "ipython",
    "version": 3
   },
   "file_extension": ".py",
   "mimetype": "text/x-python",
   "name": "python",
   "nbconvert_exporter": "python",
   "pygments_lexer": "ipython3",
   "version": "3.13.2"
  }
 },
 "nbformat": 4,
 "nbformat_minor": 5
}
